{
 "cells": [
  {
   "cell_type": "code",
   "execution_count": 227,
   "metadata": {},
   "outputs": [],
   "source": [
    "import pickle"
   ]
  },
  {
   "cell_type": "code",
   "execution_count": 228,
   "metadata": {},
   "outputs": [],
   "source": [
    "        # gender                                  -   male /  female\n",
    "        # age                                     -   numerical\n",
    "        # Height\t                                - numerical\n",
    "        # Weight\t                                - numerical\t\t\n",
    "\n",
    "        # sysBP  (systolic pressure)                       -   numerical\t\n",
    "        # diaBP  (diastolic pressure)                      -   numerical\t\n",
    "        # heartRate \t                                 -   numerical\n",
    "\n",
    "        # cigsPerDay              -   numerical\t\n",
    "        # smoking_status          -       never_smoked   /   formerly_smoked   /   smokes\n",
    "\n",
    "        # chol_category  (cholestrol consumption level in a day)    -   low_intake/ moderate_intake / high_intake\n",
    "        # glucose_category (glucose/carbs consumption level in a day) - low_intake/  moderate_intake / high_intake / very_high_intake\n",
    "\t\n",
    "        # ever_married\t-      yes / no\n",
    "        # Pregnancies\t-       numerical\n",
    "        # work_type\t-       child /  never_worked /  self_employed / govt_job /  private\n",
    "        # Residence_type\t-       urban / rural\n",
    "\n",
    "        # DiabetesPedigreeFunction (family history of diabetes) -    no_history/  low_history/   moderate_history/  high_history\t\n",
    "        # exang  (does feel chest pain during exercise) - yes/no"
   ]
  },
  {
   "cell_type": "code",
   "execution_count": 229,
   "metadata": {},
   "outputs": [],
   "source": [
    "def getSkinThickness(age):\n",
    "    #     {10-20yr: 20,    \n",
    "    #      20-30yr: 27.795107033639145,\n",
    "    #      30-40yr: 31.310679611650485,\n",
    "    #      40-50yr: 31.3,\n",
    "    #      50-60yr: 29.25,\n",
    "    #      60-70yr: 37.25,\n",
    "    #      70-80yr: 30\n",
    "    #                         }\n",
    "    if (age>70):\n",
    "        return 30\n",
    "    elif age>60:\n",
    "        return 37.25\n",
    "    elif age>50:\n",
    "        return 29.25\n",
    "    elif age>40:\n",
    "        return 31.3\n",
    "    elif age>30:\n",
    "        return 31.31\n",
    "    elif age>20:\n",
    "        return 27.795\n",
    "    elif age>10:\n",
    "        return 20\n"
   ]
  },
  {
   "cell_type": "code",
   "execution_count": 230,
   "metadata": {},
   "outputs": [],
   "source": [
    "def getAvgMaxHeartBeat(age):\n",
    "    # 10-20yr(195.0) 20-30yr (185.0),    30-40yr(169.5),   40-50yr(159.36231884057972),   50-60yr(147.83050847457628 ),   60-70yr(140.43478260869566),  70-80yr(136.0)\n",
    "    if age>70: return 136\n",
    "    elif age>60: return 140.43\n",
    "    elif age>50: return 147.83\n",
    "    elif age>40: return 159.36\n",
    "    elif age>30: return 169.5\n",
    "    elif age>20: return 185.0\n",
    "    elif age>10: return 195.0"
   ]
  },
  {
   "cell_type": "code",
   "execution_count": 231,
   "metadata": {},
   "outputs": [],
   "source": [
    "gender=0\n",
    "age=21\n",
    "height=1.77\n",
    "weight= 65\n",
    "sysBP= 90\n",
    "diaBP= 120\n",
    "heartRate= 75\n",
    "smoking_status=0\n",
    "cigsPerDay=0\n",
    "chol_category=0\n",
    "glucose_category= 1\n",
    "ever_married=0\n",
    "pregnancies=0\n",
    "work_type= 1\n",
    "residence_type= 1\n",
    "diabetes_history= 1\n",
    "exang=0"
   ]
  },
  {
   "cell_type": "code",
   "execution_count": 232,
   "metadata": {},
   "outputs": [],
   "source": [
    "f= open(\"models/stroke_predict_model\",\"rb\")\n",
    "stroke_predict_model=pickle.load(f)\n",
    "f.close()"
   ]
  },
  {
   "cell_type": "code",
   "execution_count": 233,
   "metadata": {},
   "outputs": [],
   "source": [
    "f=open(\"models/hypertension_predict_model\",\"rb\")\n",
    "hypertension_predict_model=pickle.load(f)\n",
    "f.close()"
   ]
  },
  {
   "cell_type": "code",
   "execution_count": 234,
   "metadata": {},
   "outputs": [],
   "source": [
    "f=open(\"models/obesity_predict_model\",\"rb\")\n",
    "obesity_predict_model=pickle.load(f)\n",
    "f.close()"
   ]
  },
  {
   "cell_type": "code",
   "execution_count": 235,
   "metadata": {},
   "outputs": [],
   "source": [
    "f=open(\"models/heart_predict_model\",\"rb\")\n",
    "heart_predict_model=pickle.load(f)\n",
    "f.close()"
   ]
  },
  {
   "cell_type": "code",
   "execution_count": 236,
   "metadata": {},
   "outputs": [],
   "source": [
    "f=open(\"models/diabetes_predict_model\",\"rb\")\n",
    "diabetes_predict_model=pickle.load(f)\n",
    "f.close()"
   ]
  },
  {
   "cell_type": "code",
   "execution_count": 237,
   "metadata": {},
   "outputs": [],
   "source": [
    "# ( Pregnancies\tBloodPressure\tSkinThickness\tBMI\tDiabetesPedigreeFunction\tAge\t\tglucose_category )\n",
    "input_diabetes= [0,diaBP, getSkinThickness(age) , weight/(height**2), diabetes_history, age, glucose_category]"
   ]
  },
  {
   "cell_type": "code",
   "execution_count": 238,
   "metadata": {},
   "outputs": [
    {
     "name": "stderr",
     "output_type": "stream",
     "text": [
      "c:\\Users\\vikas\\OneDrive\\Desktop\\general_tech\\Lib\\site-packages\\sklearn\\base.py:493: UserWarning: X does not have valid feature names, but DecisionTreeClassifier was fitted with feature names\n",
      "  warnings.warn(\n",
      "c:\\Users\\vikas\\OneDrive\\Desktop\\general_tech\\Lib\\site-packages\\sklearn\\base.py:493: UserWarning: X does not have valid feature names, but DecisionTreeClassifier was fitted with feature names\n",
      "  warnings.warn(\n"
     ]
    }
   ],
   "source": [
    "diab_result=diabetes_predict_model.predict([input_diabetes])\n",
    "diab_proba=diabetes_predict_model.predict_proba([input_diabetes])"
   ]
  },
  {
   "cell_type": "code",
   "execution_count": 239,
   "metadata": {},
   "outputs": [],
   "source": [
    "# ( gender\tage\tcurrentSmoker\tcigsPerDay\tdiabetes\tsysBP\tdiaBP\tBMI\theartRate\tchol_category\tglucose_category )\n",
    "input_hypertension=[gender,age, (1 if smoking_status==3 else 0), cigsPerDay, diab_result[0], sysBP, diaBP, weight/(height**2), heartRate,chol_category,glucose_category]"
   ]
  },
  {
   "cell_type": "code",
   "execution_count": 240,
   "metadata": {},
   "outputs": [
    {
     "name": "stderr",
     "output_type": "stream",
     "text": [
      "c:\\Users\\vikas\\OneDrive\\Desktop\\general_tech\\Lib\\site-packages\\sklearn\\base.py:493: UserWarning: X does not have valid feature names, but DecisionTreeClassifier was fitted with feature names\n",
      "  warnings.warn(\n",
      "c:\\Users\\vikas\\OneDrive\\Desktop\\general_tech\\Lib\\site-packages\\sklearn\\base.py:493: UserWarning: X does not have valid feature names, but DecisionTreeClassifier was fitted with feature names\n",
      "  warnings.warn(\n"
     ]
    }
   ],
   "source": [
    "hyper_result=hypertension_predict_model.predict([input_hypertension])\n",
    "hyper_proba= hypertension_predict_model.predict_proba([input_hypertension])"
   ]
  },
  {
   "cell_type": "code",
   "execution_count": 241,
   "metadata": {},
   "outputs": [],
   "source": [
    "# age\tsex\ttrestbps\tfbs\tthalach\texang\tchol_category\n",
    "input_heart=[age, gender, sysBP, (1 if (glucose_category==3 or glucose_category==4) else 0), getAvgMaxHeartBeat(age), exang, chol_category]"
   ]
  },
  {
   "cell_type": "code",
   "execution_count": 242,
   "metadata": {},
   "outputs": [
    {
     "name": "stderr",
     "output_type": "stream",
     "text": [
      "c:\\Users\\vikas\\OneDrive\\Desktop\\general_tech\\Lib\\site-packages\\sklearn\\base.py:493: UserWarning: X does not have valid feature names, but LogisticRegression was fitted with feature names\n",
      "  warnings.warn(\n",
      "c:\\Users\\vikas\\OneDrive\\Desktop\\general_tech\\Lib\\site-packages\\sklearn\\base.py:493: UserWarning: X does not have valid feature names, but LogisticRegression was fitted with feature names\n",
      "  warnings.warn(\n"
     ]
    }
   ],
   "source": [
    "heart_result=heart_predict_model.predict([input_heart])\n",
    "heart_proba= heart_predict_model.predict_proba([input_heart])"
   ]
  },
  {
   "cell_type": "code",
   "execution_count": 243,
   "metadata": {},
   "outputs": [],
   "source": [
    "# ( gender\tage\t hypertension\theart_disease\tever_married\twork_type\tResidence_type\t    bmi\t    smoking_status\t)\n",
    "input_stroke=[gender,age,hyper_result[0],heart_result[0], ever_married,work_type,residence_type, weight/(height**2), smoking_status]"
   ]
  },
  {
   "cell_type": "code",
   "execution_count": 244,
   "metadata": {},
   "outputs": [
    {
     "name": "stderr",
     "output_type": "stream",
     "text": [
      "c:\\Users\\vikas\\OneDrive\\Desktop\\general_tech\\Lib\\site-packages\\sklearn\\base.py:493: UserWarning: X does not have valid feature names, but LogisticRegression was fitted with feature names\n",
      "  warnings.warn(\n",
      "c:\\Users\\vikas\\OneDrive\\Desktop\\general_tech\\Lib\\site-packages\\sklearn\\base.py:493: UserWarning: X does not have valid feature names, but LogisticRegression was fitted with feature names\n",
      "  warnings.warn(\n"
     ]
    }
   ],
   "source": [
    "stroke_result=stroke_predict_model.predict([input_stroke])\n",
    "stroke_proba=stroke_predict_model.predict_proba([input_stroke])"
   ]
  },
  {
   "cell_type": "code",
   "execution_count": 245,
   "metadata": {},
   "outputs": [],
   "source": [
    "# ( Gender\t Age\tHeight\tWeight\t)\n",
    "\n",
    "input_obesity=[gender,age,height,weight]"
   ]
  },
  {
   "cell_type": "code",
   "execution_count": 246,
   "metadata": {},
   "outputs": [
    {
     "name": "stderr",
     "output_type": "stream",
     "text": [
      "c:\\Users\\vikas\\OneDrive\\Desktop\\general_tech\\Lib\\site-packages\\sklearn\\base.py:493: UserWarning: X does not have valid feature names, but DecisionTreeClassifier was fitted with feature names\n",
      "  warnings.warn(\n",
      "c:\\Users\\vikas\\OneDrive\\Desktop\\general_tech\\Lib\\site-packages\\sklearn\\base.py:493: UserWarning: X does not have valid feature names, but DecisionTreeClassifier was fitted with feature names\n",
      "  warnings.warn(\n"
     ]
    }
   ],
   "source": [
    "obesity_result=obesity_predict_model.predict([input_obesity])\n",
    "obesity_proba=obesity_predict_model.predict_proba([input_obesity])"
   ]
  },
  {
   "cell_type": "code",
   "execution_count": 247,
   "metadata": {},
   "outputs": [
    {
     "name": "stdout",
     "output_type": "stream",
     "text": [
      "\n",
      "        stroke_result:       [0]      proba: [[0.99669759 0.00330241]]\n",
      "        obesity_result:      ['Normal_Weight']    proba: [[0. 1. 0. 0. 0. 0. 0.]]\n",
      "        hypertension_result: [1]     proba: [[0. 1.]]\n",
      "        heart_result:        [0]     proba: [[0.97425875 0.02574125]]\n",
      "        diabetes_result:     [0]      proba: [[1. 0.]]\n",
      "    \n"
     ]
    }
   ],
   "source": [
    "print(f\"\"\"\n",
    "        stroke_result:       {stroke_result}      proba: {stroke_proba}\n",
    "        obesity_result:      {obesity_result}    proba: {obesity_proba}\n",
    "        hypertension_result: {hyper_result}     proba: {hyper_proba}\n",
    "        heart_result:        {heart_result}     proba: {heart_proba}\n",
    "        diabetes_result:     {diab_result}      proba: {diab_proba}\n",
    "    \"\"\")"
   ]
  }
 ],
 "metadata": {
  "kernelspec": {
   "display_name": "Python 3",
   "language": "python",
   "name": "python3"
  },
  "language_info": {
   "codemirror_mode": {
    "name": "ipython",
    "version": 3
   },
   "file_extension": ".py",
   "mimetype": "text/x-python",
   "name": "python",
   "nbconvert_exporter": "python",
   "pygments_lexer": "ipython3",
   "version": "3.12.7"
  }
 },
 "nbformat": 4,
 "nbformat_minor": 2
}
